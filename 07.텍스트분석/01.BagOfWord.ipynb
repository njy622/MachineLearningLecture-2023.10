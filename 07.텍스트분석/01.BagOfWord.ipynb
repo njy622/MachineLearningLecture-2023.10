{
 "cells": [
  {
   "cell_type": "markdown",
   "metadata": {},
   "source": [
    "## Bag of Words\n",
    "#### 1. CountVectorizer"
   ]
  },
  {
   "cell_type": "code",
   "execution_count": 1,
   "metadata": {},
   "outputs": [],
   "source": [
    "text = 'My wife likes to watch baseball games and my daughter likes to watch baseball games too.'"
   ]
  },
  {
   "cell_type": "code",
   "execution_count": 2,
   "metadata": {},
   "outputs": [
    {
     "data": {
      "text/plain": [
       "{'analyzer': 'word',\n",
       " 'binary': False,\n",
       " 'decode_error': 'strict',\n",
       " 'dtype': numpy.int64,\n",
       " 'encoding': 'utf-8',\n",
       " 'input': 'content',\n",
       " 'lowercase': True,\n",
       " 'max_df': 1.0,\n",
       " 'max_features': None,\n",
       " 'min_df': 1,\n",
       " 'ngram_range': (1, 1),\n",
       " 'preprocessor': None,\n",
       " 'stop_words': None,\n",
       " 'strip_accents': None,\n",
       " 'token_pattern': '(?u)\\\\b\\\\w\\\\w+\\\\b',\n",
       " 'tokenizer': None,\n",
       " 'vocabulary': None}"
      ]
     },
     "execution_count": 2,
     "metadata": {},
     "output_type": "execute_result"
    }
   ],
   "source": [
    "from sklearn.feature_extraction.text import CountVectorizer\n",
    "cvet = CountVectorizer()\n",
    "cvet.get_params()"
   ]
  },
  {
   "cell_type": "code",
   "execution_count": 3,
   "metadata": {},
   "outputs": [
    {
     "data": {
      "text/plain": [
       "array([[1, 2, 1, 2, 2, 2, 2, 1, 2, 1]], dtype=int64)"
      ]
     },
     "execution_count": 3,
     "metadata": {},
     "output_type": "execute_result"
    }
   ],
   "source": [
    "ouput = cvet.fit_transform([text])      # [text] : 굉장히 많은 데이터가 있기때문에 리스트로 받겠다\n",
    "ouput.toarray()"
   ]
  },
  {
   "cell_type": "code",
   "execution_count": 4,
   "metadata": {},
   "outputs": [
    {
     "data": {
      "text/plain": [
       "{'my': 5,\n",
       " 'wife': 9,\n",
       " 'likes': 4,\n",
       " 'to': 6,\n",
       " 'watch': 8,\n",
       " 'baseball': 1,\n",
       " 'games': 3,\n",
       " 'and': 0,\n",
       " 'daughter': 2,\n",
       " 'too': 7}"
      ]
     },
     "execution_count": 4,
     "metadata": {},
     "output_type": "execute_result"
    }
   ],
   "source": [
    "# array([[1, 2, 1, 2, 2, 2, 2, 1, 2, 1]] 해석\n",
    "cvet.vocabulary_        "
   ]
  },
  {
   "cell_type": "markdown",
   "metadata": {},
   "source": [
    "- 불용어(Stopwords) 처리"
   ]
  },
  {
   "cell_type": "code",
   "execution_count": 5,
   "metadata": {},
   "outputs": [
    {
     "name": "stdout",
     "output_type": "stream",
     "text": [
      "[[2 1 2 2 1 2 1]]\n",
      "{'wife': 6, 'likes': 3, 'watch': 5, 'baseball': 0, 'games': 2, 'daughter': 1, 'too': 4}\n"
     ]
    }
   ],
   "source": [
    "# 직접 지정\n",
    "my_stopwords = ['my', 'to', 'and']\n",
    "cvet = CountVectorizer(stop_words=my_stopwords)\n",
    "print(cvet.fit_transform([text]).toarray())\n",
    "print(cvet.vocabulary_)"
   ]
  },
  {
   "cell_type": "code",
   "execution_count": 6,
   "metadata": {},
   "outputs": [
    {
     "name": "stdout",
     "output_type": "stream",
     "text": [
      "[[2 1 2 2 2 1]]\n",
      "{'wife': 5, 'likes': 3, 'watch': 4, 'baseball': 0, 'games': 2, 'daughter': 1}\n"
     ]
    }
   ],
   "source": [
    "# NLTK에서 제공하는 불용어 사용\n",
    "from nltk.corpus import stopwords\n",
    "sw = stopwords.words('english')\n",
    "cvet = CountVectorizer(stop_words=sw)\n",
    "print(cvet.fit_transform([text]).toarray())\n",
    "print(cvet.vocabulary_)"
   ]
  },
  {
   "cell_type": "code",
   "execution_count": 7,
   "metadata": {},
   "outputs": [
    {
     "name": "stdout",
     "output_type": "stream",
     "text": [
      "[[2 1 2 2 2 1]]\n",
      "{'wife': 5, 'likes': 3, 'watch': 4, 'baseball': 0, 'games': 2, 'daughter': 1}\n"
     ]
    }
   ],
   "source": [
    "# Scikit-Learn에서 제공하는 불용어 사용\n",
    "cvet = CountVectorizer(stop_words='english')\n",
    "print(cvet.fit_transform([text]).toarray())\n",
    "print(cvet.vocabulary_)"
   ]
  },
  {
   "cell_type": "markdown",
   "metadata": {},
   "source": [
    "- 인덱스에 해당하는 단어를 알려주는 함수"
   ]
  },
  {
   "cell_type": "code",
   "execution_count": 12,
   "metadata": {},
   "outputs": [
    {
     "name": "stdout",
     "output_type": "stream",
     "text": [
      "wife 5\n",
      "likes 3\n",
      "watch 4\n",
      "baseball 0\n",
      "games 2\n",
      "daughter 1\n"
     ]
    }
   ],
   "source": [
    "voca = cvet.vocabulary_\n",
    "for key, value in voca.items():\n",
    "    print(key, value)"
   ]
  },
  {
   "cell_type": "code",
   "execution_count": 14,
   "metadata": {},
   "outputs": [
    {
     "data": {
      "text/plain": [
       "'watch'"
      ]
     },
     "execution_count": 14,
     "metadata": {},
     "output_type": "execute_result"
    }
   ],
   "source": [
    "def get_word(index, voca):\n",
    "    for key, value in voca.items():\n",
    "        if index == value:\n",
    "            return key\n",
    "        \n",
    "get_word(4, cvet.vocabulary_)\n",
    "\n",
    "\n",
    "\n",
    "# {'wife': 5, 'likes': 3, 'watch': 4, 'baseball': 0, 'games': 2, 'daughter': 1}\n",
    "# 여기서 해당 밸류의 숫자와 동일한 것을 불러와줌"
   ]
  },
  {
   "cell_type": "markdown",
   "metadata": {},
   "source": [
    "#### 2. TF-IDF(Term Frequency - Inverse Document Frequency) Vectorizer"
   ]
  },
  {
   "cell_type": "code",
   "execution_count": 16,
   "metadata": {},
   "outputs": [],
   "source": [
    "text = ['My wife likes to watch baseball games and my daughter likes to watch baseball games too.',\n",
    "        'My wife likes to play baseball.']"
   ]
  },
  {
   "cell_type": "code",
   "execution_count": 21,
   "metadata": {},
   "outputs": [
    {
     "data": {
      "text/plain": [
       "array([[0.38649245, 0.27160082, 0.54320165, 0.38649245, 0.        ,\n",
       "        0.54320165, 0.19324622],\n",
       "       [0.44832087, 0.        , 0.        , 0.44832087, 0.63009934,\n",
       "        0.        , 0.44832087]])"
      ]
     },
     "execution_count": 21,
     "metadata": {},
     "output_type": "execute_result"
    }
   ],
   "source": [
    "from sklearn.feature_extraction.text import TfidfVectorizer\n",
    "tvect = TfidfVectorizer(stop_words='english')\n",
    "tvect.fit_transform(text).toarray()             # text가 이번엔 리스트라서 리스트로 변경 X도됨\n",
    "\n",
    "# baseball이 여러 문장에서 빈도가 많았음으로 감점"
   ]
  },
  {
   "cell_type": "code",
   "execution_count": 22,
   "metadata": {},
   "outputs": [
    {
     "name": "stdout",
     "output_type": "stream",
     "text": [
      "{'wife': 6, 'likes': 3, 'watch': 5, 'baseball': 0, 'games': 2, 'daughter': 1, 'play': 4}\n"
     ]
    }
   ],
   "source": [
    "print(tvect.vocabulary_)"
   ]
  },
  {
   "cell_type": "code",
   "execution_count": 23,
   "metadata": {},
   "outputs": [
    {
     "data": {
      "text/plain": [
       "array([[2, 1, 2, 2, 0, 2, 1],\n",
       "       [1, 0, 0, 1, 1, 0, 1]], dtype=int64)"
      ]
     },
     "execution_count": 23,
     "metadata": {},
     "output_type": "execute_result"
    }
   ],
   "source": [
    "cvet = CountVectorizer(stop_words='english')\n",
    "cvet.fit_transform(text).toarray()"
   ]
  },
  {
   "cell_type": "markdown",
   "metadata": {},
   "source": [
    "### 3. N-gram"
   ]
  },
  {
   "cell_type": "code",
   "execution_count": 24,
   "metadata": {},
   "outputs": [],
   "source": [
    "text = ['Machine learning is fun and not boring',\n",
    "        'Machine is boring and learning is not fun']"
   ]
  },
  {
   "cell_type": "code",
   "execution_count": 25,
   "metadata": {},
   "outputs": [
    {
     "data": {
      "text/plain": [
       "array([[1, 1, 1, 1],\n",
       "       [1, 1, 1, 1]], dtype=int64)"
      ]
     },
     "execution_count": 25,
     "metadata": {},
     "output_type": "execute_result"
    }
   ],
   "source": [
    "cvet = CountVectorizer(stop_words='english')\n",
    "cvet.fit_transform(text).toarray()"
   ]
  },
  {
   "cell_type": "code",
   "execution_count": 26,
   "metadata": {},
   "outputs": [
    {
     "data": {
      "text/plain": [
       "array([[1, 0, 1, 1, 1, 1, 1, 0, 1],\n",
       "       [1, 1, 1, 0, 1, 1, 1, 1, 0]], dtype=int64)"
      ]
     },
     "execution_count": 26,
     "metadata": {},
     "output_type": "execute_result"
    }
   ],
   "source": [
    "cvet = CountVectorizer(stop_words='english', ngram_range=(1,2))\n",
    "# ngram_range=(1,2) : 유니그램(1)과 바이그램(2)을 한꺼번에 쓰겠다! \n",
    "cvet.fit_transform(text).toarray()"
   ]
  },
  {
   "cell_type": "code",
   "execution_count": 27,
   "metadata": {},
   "outputs": [
    {
     "data": {
      "text/plain": [
       "{'machine': 6,\n",
       " 'learning': 4,\n",
       " 'fun': 2,\n",
       " 'boring': 0,\n",
       " 'machine learning': 8,\n",
       " 'learning fun': 5,\n",
       " 'fun boring': 3,\n",
       " 'machine boring': 7,\n",
       " 'boring learning': 1}"
      ]
     },
     "execution_count": 27,
     "metadata": {},
     "output_type": "execute_result"
    }
   ],
   "source": [
    "cvet.vocabulary_"
   ]
  },
  {
   "cell_type": "markdown",
   "metadata": {},
   "source": [
    "### 4. Hyper Parameter"
   ]
  },
  {
   "cell_type": "code",
   "execution_count": 28,
   "metadata": {},
   "outputs": [
    {
     "data": {
      "text/plain": [
       "{'analyzer': 'word',\n",
       " 'binary': False,\n",
       " 'decode_error': 'strict',\n",
       " 'dtype': numpy.float64,\n",
       " 'encoding': 'utf-8',\n",
       " 'input': 'content',\n",
       " 'lowercase': True,\n",
       " 'max_df': 1.0,\n",
       " 'max_features': None,\n",
       " 'min_df': 1,\n",
       " 'ngram_range': (1, 1),\n",
       " 'norm': 'l2',\n",
       " 'preprocessor': None,\n",
       " 'smooth_idf': True,\n",
       " 'stop_words': 'english',\n",
       " 'strip_accents': None,\n",
       " 'sublinear_tf': False,\n",
       " 'token_pattern': '(?u)\\\\b\\\\w\\\\w+\\\\b',\n",
       " 'tokenizer': None,\n",
       " 'use_idf': True,\n",
       " 'vocabulary': None}"
      ]
     },
     "execution_count": 28,
     "metadata": {},
     "output_type": "execute_result"
    }
   ],
   "source": [
    "tvect.get_params()"
   ]
  }
 ],
 "metadata": {
  "kernelspec": {
   "display_name": "base",
   "language": "python",
   "name": "python3"
  },
  "language_info": {
   "codemirror_mode": {
    "name": "ipython",
    "version": 3
   },
   "file_extension": ".py",
   "mimetype": "text/x-python",
   "name": "python",
   "nbconvert_exporter": "python",
   "pygments_lexer": "ipython3",
   "version": "3.11.4"
  }
 },
 "nbformat": 4,
 "nbformat_minor": 2
}
