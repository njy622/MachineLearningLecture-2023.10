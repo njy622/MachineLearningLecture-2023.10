{
  "cells": [
    {
      "cell_type": "markdown",
      "metadata": {
        "id": "Qxw1ig2ggqor"
      },
      "source": [
        "## 최근접 이웃  협업 필터링(코랩)"
      ]
    },
    {
      "cell_type": "code",
      "execution_count": 15,
      "metadata": {
        "colab": {
          "base_uri": "https://localhost:8080/"
        },
        "id": "4LiqniRukbGB",
        "outputId": "81f2ff19-ff00-4c6d-b0d1-93e767349010"
      },
      "outputs": [
        {
          "name": "stdout",
          "output_type": "stream",
          "text": [
            "Requirement already satisfied: scikit-surprise in /usr/local/lib/python3.10/dist-packages (1.1.3)\n",
            "Requirement already satisfied: joblib>=1.0.0 in /usr/local/lib/python3.10/dist-packages (from scikit-surprise) (1.3.2)\n",
            "Requirement already satisfied: numpy>=1.17.3 in /usr/local/lib/python3.10/dist-packages (from scikit-surprise) (1.23.5)\n",
            "Requirement already satisfied: scipy>=1.3.2 in /usr/local/lib/python3.10/dist-packages (from scikit-surprise) (1.11.3)\n"
          ]
        }
      ],
      "source": [
        "# 라이브러리 설치\n",
        "!pip install scikit-surprise"
      ]
    },
    {
      "cell_type": "code",
      "execution_count": 16,
      "metadata": {
        "id": "R_I4s4Urg2q7"
      },
      "outputs": [],
      "source": [
        "import numpy as np\n",
        "import pandas as pd\n",
        "from surprise import Dataset"
      ]
    },
    {
      "cell_type": "code",
      "execution_count": 17,
      "metadata": {
        "colab": {
          "base_uri": "https://localhost:8080/",
          "height": 206
        },
        "id": "HTAu4CTfh0FS",
        "outputId": "16197c7e-55ab-4e06-bc99-b7c501ecffb0"
      },
      "outputs": [
        {
          "data": {
            "text/html": [
              "\n",
              "  <div id=\"df-152a042c-2349-46d4-aaea-5d01831d5b36\" class=\"colab-df-container\">\n",
              "    <div>\n",
              "<style scoped>\n",
              "    .dataframe tbody tr th:only-of-type {\n",
              "        vertical-align: middle;\n",
              "    }\n",
              "\n",
              "    .dataframe tbody tr th {\n",
              "        vertical-align: top;\n",
              "    }\n",
              "\n",
              "    .dataframe thead th {\n",
              "        text-align: right;\n",
              "    }\n",
              "</style>\n",
              "<table border=\"1\" class=\"dataframe\">\n",
              "  <thead>\n",
              "    <tr style=\"text-align: right;\">\n",
              "      <th></th>\n",
              "      <th>user-id</th>\n",
              "      <th>movie-id</th>\n",
              "      <th>rating</th>\n",
              "      <th>timestamp</th>\n",
              "    </tr>\n",
              "  </thead>\n",
              "  <tbody>\n",
              "    <tr>\n",
              "      <th>0</th>\n",
              "      <td>196</td>\n",
              "      <td>242</td>\n",
              "      <td>3.0</td>\n",
              "      <td>881250949</td>\n",
              "    </tr>\n",
              "    <tr>\n",
              "      <th>1</th>\n",
              "      <td>186</td>\n",
              "      <td>302</td>\n",
              "      <td>3.0</td>\n",
              "      <td>891717742</td>\n",
              "    </tr>\n",
              "    <tr>\n",
              "      <th>2</th>\n",
              "      <td>22</td>\n",
              "      <td>377</td>\n",
              "      <td>1.0</td>\n",
              "      <td>878887116</td>\n",
              "    </tr>\n",
              "    <tr>\n",
              "      <th>3</th>\n",
              "      <td>244</td>\n",
              "      <td>51</td>\n",
              "      <td>2.0</td>\n",
              "      <td>880606923</td>\n",
              "    </tr>\n",
              "    <tr>\n",
              "      <th>4</th>\n",
              "      <td>166</td>\n",
              "      <td>346</td>\n",
              "      <td>1.0</td>\n",
              "      <td>886397596</td>\n",
              "    </tr>\n",
              "  </tbody>\n",
              "</table>\n",
              "</div>\n",
              "    <div class=\"colab-df-buttons\">\n",
              "\n",
              "  <div class=\"colab-df-container\">\n",
              "    <button class=\"colab-df-convert\" onclick=\"convertToInteractive('df-152a042c-2349-46d4-aaea-5d01831d5b36')\"\n",
              "            title=\"Convert this dataframe to an interactive table.\"\n",
              "            style=\"display:none;\">\n",
              "\n",
              "  <svg xmlns=\"http://www.w3.org/2000/svg\" height=\"24px\" viewBox=\"0 -960 960 960\">\n",
              "    <path d=\"M120-120v-720h720v720H120Zm60-500h600v-160H180v160Zm220 220h160v-160H400v160Zm0 220h160v-160H400v160ZM180-400h160v-160H180v160Zm440 0h160v-160H620v160ZM180-180h160v-160H180v160Zm440 0h160v-160H620v160Z\"/>\n",
              "  </svg>\n",
              "    </button>\n",
              "\n",
              "  <style>\n",
              "    .colab-df-container {\n",
              "      display:flex;\n",
              "      gap: 12px;\n",
              "    }\n",
              "\n",
              "    .colab-df-convert {\n",
              "      background-color: #E8F0FE;\n",
              "      border: none;\n",
              "      border-radius: 50%;\n",
              "      cursor: pointer;\n",
              "      display: none;\n",
              "      fill: #1967D2;\n",
              "      height: 32px;\n",
              "      padding: 0 0 0 0;\n",
              "      width: 32px;\n",
              "    }\n",
              "\n",
              "    .colab-df-convert:hover {\n",
              "      background-color: #E2EBFA;\n",
              "      box-shadow: 0px 1px 2px rgba(60, 64, 67, 0.3), 0px 1px 3px 1px rgba(60, 64, 67, 0.15);\n",
              "      fill: #174EA6;\n",
              "    }\n",
              "\n",
              "    .colab-df-buttons div {\n",
              "      margin-bottom: 4px;\n",
              "    }\n",
              "\n",
              "    [theme=dark] .colab-df-convert {\n",
              "      background-color: #3B4455;\n",
              "      fill: #D2E3FC;\n",
              "    }\n",
              "\n",
              "    [theme=dark] .colab-df-convert:hover {\n",
              "      background-color: #434B5C;\n",
              "      box-shadow: 0px 1px 3px 1px rgba(0, 0, 0, 0.15);\n",
              "      filter: drop-shadow(0px 1px 2px rgba(0, 0, 0, 0.3));\n",
              "      fill: #FFFFFF;\n",
              "    }\n",
              "  </style>\n",
              "\n",
              "    <script>\n",
              "      const buttonEl =\n",
              "        document.querySelector('#df-152a042c-2349-46d4-aaea-5d01831d5b36 button.colab-df-convert');\n",
              "      buttonEl.style.display =\n",
              "        google.colab.kernel.accessAllowed ? 'block' : 'none';\n",
              "\n",
              "      async function convertToInteractive(key) {\n",
              "        const element = document.querySelector('#df-152a042c-2349-46d4-aaea-5d01831d5b36');\n",
              "        const dataTable =\n",
              "          await google.colab.kernel.invokeFunction('convertToInteractive',\n",
              "                                                    [key], {});\n",
              "        if (!dataTable) return;\n",
              "\n",
              "        const docLinkHtml = 'Like what you see? Visit the ' +\n",
              "          '<a target=\"_blank\" href=https://colab.research.google.com/notebooks/data_table.ipynb>data table notebook</a>'\n",
              "          + ' to learn more about interactive tables.';\n",
              "        element.innerHTML = '';\n",
              "        dataTable['output_type'] = 'display_data';\n",
              "        await google.colab.output.renderOutput(dataTable, element);\n",
              "        const docLink = document.createElement('div');\n",
              "        docLink.innerHTML = docLinkHtml;\n",
              "        element.appendChild(docLink);\n",
              "      }\n",
              "    </script>\n",
              "  </div>\n",
              "\n",
              "\n",
              "<div id=\"df-aa30a7ef-24d2-44b8-8dde-597952184d0b\">\n",
              "  <button class=\"colab-df-quickchart\" onclick=\"quickchart('df-aa30a7ef-24d2-44b8-8dde-597952184d0b')\"\n",
              "            title=\"Suggest charts.\"\n",
              "            style=\"display:none;\">\n",
              "\n",
              "<svg xmlns=\"http://www.w3.org/2000/svg\" height=\"24px\"viewBox=\"0 0 24 24\"\n",
              "     width=\"24px\">\n",
              "    <g>\n",
              "        <path d=\"M19 3H5c-1.1 0-2 .9-2 2v14c0 1.1.9 2 2 2h14c1.1 0 2-.9 2-2V5c0-1.1-.9-2-2-2zM9 17H7v-7h2v7zm4 0h-2V7h2v10zm4 0h-2v-4h2v4z\"/>\n",
              "    </g>\n",
              "</svg>\n",
              "  </button>\n",
              "\n",
              "<style>\n",
              "  .colab-df-quickchart {\n",
              "      --bg-color: #E8F0FE;\n",
              "      --fill-color: #1967D2;\n",
              "      --hover-bg-color: #E2EBFA;\n",
              "      --hover-fill-color: #174EA6;\n",
              "      --disabled-fill-color: #AAA;\n",
              "      --disabled-bg-color: #DDD;\n",
              "  }\n",
              "\n",
              "  [theme=dark] .colab-df-quickchart {\n",
              "      --bg-color: #3B4455;\n",
              "      --fill-color: #D2E3FC;\n",
              "      --hover-bg-color: #434B5C;\n",
              "      --hover-fill-color: #FFFFFF;\n",
              "      --disabled-bg-color: #3B4455;\n",
              "      --disabled-fill-color: #666;\n",
              "  }\n",
              "\n",
              "  .colab-df-quickchart {\n",
              "    background-color: var(--bg-color);\n",
              "    border: none;\n",
              "    border-radius: 50%;\n",
              "    cursor: pointer;\n",
              "    display: none;\n",
              "    fill: var(--fill-color);\n",
              "    height: 32px;\n",
              "    padding: 0;\n",
              "    width: 32px;\n",
              "  }\n",
              "\n",
              "  .colab-df-quickchart:hover {\n",
              "    background-color: var(--hover-bg-color);\n",
              "    box-shadow: 0 1px 2px rgba(60, 64, 67, 0.3), 0 1px 3px 1px rgba(60, 64, 67, 0.15);\n",
              "    fill: var(--button-hover-fill-color);\n",
              "  }\n",
              "\n",
              "  .colab-df-quickchart-complete:disabled,\n",
              "  .colab-df-quickchart-complete:disabled:hover {\n",
              "    background-color: var(--disabled-bg-color);\n",
              "    fill: var(--disabled-fill-color);\n",
              "    box-shadow: none;\n",
              "  }\n",
              "\n",
              "  .colab-df-spinner {\n",
              "    border: 2px solid var(--fill-color);\n",
              "    border-color: transparent;\n",
              "    border-bottom-color: var(--fill-color);\n",
              "    animation:\n",
              "      spin 1s steps(1) infinite;\n",
              "  }\n",
              "\n",
              "  @keyframes spin {\n",
              "    0% {\n",
              "      border-color: transparent;\n",
              "      border-bottom-color: var(--fill-color);\n",
              "      border-left-color: var(--fill-color);\n",
              "    }\n",
              "    20% {\n",
              "      border-color: transparent;\n",
              "      border-left-color: var(--fill-color);\n",
              "      border-top-color: var(--fill-color);\n",
              "    }\n",
              "    30% {\n",
              "      border-color: transparent;\n",
              "      border-left-color: var(--fill-color);\n",
              "      border-top-color: var(--fill-color);\n",
              "      border-right-color: var(--fill-color);\n",
              "    }\n",
              "    40% {\n",
              "      border-color: transparent;\n",
              "      border-right-color: var(--fill-color);\n",
              "      border-top-color: var(--fill-color);\n",
              "    }\n",
              "    60% {\n",
              "      border-color: transparent;\n",
              "      border-right-color: var(--fill-color);\n",
              "    }\n",
              "    80% {\n",
              "      border-color: transparent;\n",
              "      border-right-color: var(--fill-color);\n",
              "      border-bottom-color: var(--fill-color);\n",
              "    }\n",
              "    90% {\n",
              "      border-color: transparent;\n",
              "      border-bottom-color: var(--fill-color);\n",
              "    }\n",
              "  }\n",
              "</style>\n",
              "\n",
              "  <script>\n",
              "    async function quickchart(key) {\n",
              "      const quickchartButtonEl =\n",
              "        document.querySelector('#' + key + ' button');\n",
              "      quickchartButtonEl.disabled = true;  // To prevent multiple clicks.\n",
              "      quickchartButtonEl.classList.add('colab-df-spinner');\n",
              "      try {\n",
              "        const charts = await google.colab.kernel.invokeFunction(\n",
              "            'suggestCharts', [key], {});\n",
              "      } catch (error) {\n",
              "        console.error('Error during call to suggestCharts:', error);\n",
              "      }\n",
              "      quickchartButtonEl.classList.remove('colab-df-spinner');\n",
              "      quickchartButtonEl.classList.add('colab-df-quickchart-complete');\n",
              "    }\n",
              "    (() => {\n",
              "      let quickchartButtonEl =\n",
              "        document.querySelector('#df-aa30a7ef-24d2-44b8-8dde-597952184d0b button');\n",
              "      quickchartButtonEl.style.display =\n",
              "        google.colab.kernel.accessAllowed ? 'block' : 'none';\n",
              "    })();\n",
              "  </script>\n",
              "</div>\n",
              "    </div>\n",
              "  </div>\n"
            ],
            "text/plain": [
              "  user-id movie-id  rating  timestamp\n",
              "0     196      242     3.0  881250949\n",
              "1     186      302     3.0  891717742\n",
              "2      22      377     1.0  878887116\n",
              "3     244       51     2.0  880606923\n",
              "4     166      346     1.0  886397596"
            ]
          },
          "execution_count": 17,
          "metadata": {},
          "output_type": "execute_result"
        }
      ],
      "source": [
        "data = Dataset.load_builtin('ml-100k', prompt=False)\n",
        "df = pd.DataFrame(data.raw_ratings, columns=['user-id', 'movie-id', 'rating', 'timestamp'])\n",
        "df.head()"
      ]
    },
    {
      "cell_type": "code",
      "execution_count": 18,
      "metadata": {
        "colab": {
          "base_uri": "https://localhost:8080/"
        },
        "id": "CzJfFPgEiMLS",
        "outputId": "6897fe90-fe38-4a17-e8db-2b35e6d34028"
      },
      "outputs": [
        {
          "data": {
            "text/plain": [
              "((100000, 4), 943, 1682)"
            ]
          },
          "execution_count": 18,
          "metadata": {},
          "output_type": "execute_result"
        }
      ],
      "source": [
        "df.shape, df['user-id'].nunique(), df['movie-id'].nunique()"
      ]
    },
    {
      "cell_type": "code",
      "execution_count": 19,
      "metadata": {
        "colab": {
          "base_uri": "https://localhost:8080/"
        },
        "id": "beOWX_tfjLcy",
        "outputId": "b1a9332b-7ca7-4c7a-eb98-d800370070d6"
      },
      "outputs": [
        {
          "data": {
            "text/plain": [
              "4.0    34174\n",
              "3.0    27145\n",
              "5.0    21201\n",
              "2.0    11370\n",
              "1.0     6110\n",
              "Name: rating, dtype: int64"
            ]
          },
          "execution_count": 19,
          "metadata": {},
          "output_type": "execute_result"
        }
      ],
      "source": [
        "df.rating.value_counts()"
      ]
    },
    {
      "cell_type": "markdown",
      "metadata": {
        "id": "ZeXBSNMOi4fU"
      },
      "source": [
        "### 1. Adjacent Matrix 생성\n",
        "- 행: 사용자 id\n",
        "- 열: 영화 id\n",
        "- 내용: 평점"
      ]
    },
    {
      "cell_type": "code",
      "execution_count": 20,
      "metadata": {
        "colab": {
          "base_uri": "https://localhost:8080/"
        },
        "id": "QZvoOm9iigj2",
        "outputId": "bfa05a25-840a-471b-d3db-5cc56cedb38e"
      },
      "outputs": [
        {
          "data": {
            "text/plain": [
              "(array([        1,         1,         1, 874724710]),\n",
              " array([      943,      1682,         5, 893286638]))"
            ]
          },
          "execution_count": 20,
          "metadata": {},
          "output_type": "execute_result"
        }
      ],
      "source": [
        "raw_data = np.array(data.raw_ratings, dtype=int)\n",
        "np.min(raw_data, axis=0), np.max(raw_data, axis=0)"
      ]
    },
    {
      "cell_type": "code",
      "execution_count": 21,
      "metadata": {
        "colab": {
          "base_uri": "https://localhost:8080/"
        },
        "id": "2jvqHhhajk8q",
        "outputId": "cf81284d-ac43-42fa-f04d-436ac7ada7a8"
      },
      "outputs": [
        {
          "data": {
            "text/plain": [
              "array([[      195,       241,         3, 881250949],\n",
              "       [      185,       301,         3, 891717742],\n",
              "       [       21,       376,         1, 878887116],\n",
              "       [      243,        50,         2, 880606923],\n",
              "       [      165,       345,         1, 886397596]])"
            ]
          },
          "execution_count": 21,
          "metadata": {},
          "output_type": "execute_result"
        }
      ],
      "source": [
        "# user-id, movie-id가 0부터 시작하도록 만들어 줌 (기존데이터는 1부터 시작)\n",
        "raw_data[:, :2] -= 1\n",
        "raw_data[:5]"
      ]
    },
    {
      "cell_type": "markdown",
      "metadata": {
        "id": "hL81nA5dku3_"
      },
      "source": [
        "#### 1) 본 영화/안본 영화로만 구분, 1/0"
      ]
    },
    {
      "cell_type": "code",
      "execution_count": 22,
      "metadata": {
        "colab": {
          "base_uri": "https://localhost:8080/"
        },
        "id": "6tHLTrcukc7q",
        "outputId": "731098e1-5a8b-405c-b2cd-366987a8e096"
      },
      "outputs": [
        {
          "data": {
            "text/plain": [
              "array([[1, 1, 1, ..., 0, 0, 0],\n",
              "       [1, 0, 0, ..., 0, 0, 0],\n",
              "       [0, 0, 0, ..., 0, 0, 0],\n",
              "       [0, 0, 0, ..., 0, 0, 0],\n",
              "       [1, 1, 0, ..., 0, 0, 0]])"
            ]
          },
          "execution_count": 22,
          "metadata": {},
          "output_type": "execute_result"
        }
      ],
      "source": [
        "nrows = df['user-id'].nunique()   # 몇줄인가 확인\n",
        "ncols = df['movie-id'].nunique()\n",
        "adj_matrix = np.zeros([nrows, ncols], dtype=int)\n",
        "for row in raw_data:\n",
        "  adj_matrix[row[0], row[1]] = 1         #row[0]: user-id, row[1]:movie-id\n",
        "adj_matrix[:5]"
      ]
    },
    {
      "cell_type": "code",
      "execution_count": 23,
      "metadata": {
        "id": "M8J3Tjv2lFFq"
      },
      "outputs": [],
      "source": [
        "# 0번 데이터를 '나'라고 가정\n",
        "my_id, my_vector = 0, adj_matrix[0]"
      ]
    },
    {
      "cell_type": "code",
      "execution_count": 24,
      "metadata": {
        "colab": {
          "base_uri": "https://localhost:8080/"
        },
        "id": "1Kx0N78J1YYB",
        "outputId": "6a5983a7-a429-48fa-d47d-074dfcbc21c2"
      },
      "outputs": [
        {
          "data": {
            "text/plain": [
              "(71, 42)"
            ]
          },
          "execution_count": 24,
          "metadata": {},
          "output_type": "execute_result"
        }
      ],
      "source": [
        "# 유사도 - 나와 특정 사용자와의 내적(dot product)\n",
        "np.dot(my_vector, adj_matrix[10]), np.dot(my_vector, adj_matrix[20])\n",
        "# 나는 10번과 유사"
      ]
    },
    {
      "cell_type": "code",
      "execution_count": 27,
      "metadata": {
        "colab": {
          "base_uri": "https://localhost:8080/"
        },
        "id": "ub6tnOBj10uq",
        "outputId": "a7a70490-f5fc-4ec4-b0fe-82d1eafad882"
      },
      "outputs": [
        {
          "data": {
            "text/plain": [
              "(183, 275)"
            ]
          },
          "execution_count": 27,
          "metadata": {},
          "output_type": "execute_result"
        }
      ],
      "source": [
        "# 누가 나랑 닮았나?\n",
        "best_score, best_match_id = 0, 0\n",
        "#여기에서 best_score:  최대값을 찾기 위해 최소값으로 초기화(비교하기위함)\n",
        "\n",
        "for i in range(1, len(adj_matrix)):\n",
        "  dot = np.dot(my_vector, adj_matrix[i])\n",
        "  if dot > best_score:\n",
        "    best_score, best_match_id = dot, i\n",
        "\n",
        "best_score, best_match_id\n",
        "# 결과값 : 183 => 상대방이 나하고 같이 본 영화의 갯수"
      ]
    },
    {
      "cell_type": "code",
      "execution_count": 29,
      "metadata": {
        "colab": {
          "base_uri": "https://localhost:8080/"
        },
        "id": "dTOGywQp2kqV",
        "outputId": "cf411610-84a0-4942-fbe6-4505caaa36e9"
      },
      "outputs": [
        {
          "data": {
            "text/plain": [
              "(272, 518)"
            ]
          },
          "execution_count": 29,
          "metadata": {},
          "output_type": "execute_result"
        }
      ],
      "source": [
        "# 내가 본 영화 갯수, 가장 닮은 사람이 본 영화 갯수\n",
        "my_vector.sum(), adj_matrix[best_match_id].sum()"
      ]
    },
    {
      "cell_type": "code",
      "execution_count": 31,
      "metadata": {
        "colab": {
          "base_uri": "https://localhost:8080/"
        },
        "id": "owgzmLyh2x20",
        "outputId": "9c6039da-df19-43b8-802b-e355ea51cbe7"
      },
      "outputs": [
        {
          "data": {
            "text/plain": [
              "(335, [272, 273, 275, 280, 281, 283, 287, 288, 289, 290])"
            ]
          },
          "execution_count": 31,
          "metadata": {},
          "output_type": "execute_result"
        }
      ],
      "source": [
        "# 내가 보지 않은 영화중에서 가장 닮은 사람이 본 영화가 --> 추천\n",
        "recommend_list = []\n",
        "best_vector = adj_matrix[best_match_id]\n",
        "for i in range(len(my_vector)):\n",
        "  if my_vector[i] == 0 and best_vector[i] == 1:\n",
        "    recommend_list.append(i)\n",
        "len(recommend_list), recommend_list[:10]"
      ]
    },
    {
      "cell_type": "markdown",
      "metadata": {
        "id": "G-RVLAC84PLk"
      },
      "source": [
        "#### 2) 평점으로 점수를 하는 경우"
      ]
    },
    {
      "cell_type": "code",
      "execution_count": 32,
      "metadata": {
        "colab": {
          "base_uri": "https://localhost:8080/"
        },
        "id": "6x8XXoBf33x1",
        "outputId": "f18e2215-d3dd-498c-caef-7715b042edcd"
      },
      "outputs": [
        {
          "data": {
            "text/plain": [
              "array([[5, 3, 4, ..., 0, 0, 0],\n",
              "       [4, 0, 0, ..., 0, 0, 0],\n",
              "       [0, 0, 0, ..., 0, 0, 0],\n",
              "       [0, 0, 0, ..., 0, 0, 0],\n",
              "       [4, 3, 0, ..., 0, 0, 0]])"
            ]
          },
          "execution_count": 32,
          "metadata": {},
          "output_type": "execute_result"
        }
      ],
      "source": [
        "adj_matrix = np.zeros([nrows, ncols], dtype=int)\n",
        "for row in raw_data:\n",
        "  adj_matrix[row[0], row[1]] = row[2]\n",
        "adj_matrix[:5]"
      ]
    },
    {
      "cell_type": "markdown",
      "metadata": {
        "id": "DyWDpX0G4xwn"
      },
      "source": [
        "- 유클리드 거리"
      ]
    },
    {
      "cell_type": "code",
      "execution_count": 34,
      "metadata": {
        "colab": {
          "base_uri": "https://localhost:8080/"
        },
        "id": "eB-FUirP4cZD",
        "outputId": "b0ad4de1-cb27-45df-ff0e-62b896849c65"
      },
      "outputs": [
        {
          "data": {
            "text/plain": [
              "(55.06359959174482, 737)"
            ]
          },
          "execution_count": 34,
          "metadata": {},
          "output_type": "execute_result"
        }
      ],
      "source": [
        "# 누가 가장 '나'와 닮았나? - 유클리드(euc) 거리의 최소값\n",
        "best_score, best_match_id = 10000000, 0\n",
        "#여기에서 best_score:  최소값을 찾기 위해 최대값으로 초기화(비교하기위함)\n",
        "my_vector = adj_matrix[0]\n",
        "\n",
        "for i in range(1, len(adj_matrix)):\n",
        "  euc = np.sqrt(np.sum(np.square(my_vector - adj_matrix[i])))      # sqrt: 루트/ square: 제곱\n",
        "  if euc < best_score:\n",
        "    best_score, best_match_id = euc, i\n",
        "\n",
        "best_score, best_match_id"
      ]
    },
    {
      "cell_type": "code",
      "execution_count": 35,
      "metadata": {
        "colab": {
          "base_uri": "https://localhost:8080/"
        },
        "id": "YtaP3WTm6sSj",
        "outputId": "631dc973-7b78-4345-cfd1-21090bfdd603"
      },
      "outputs": [
        {
          "data": {
            "text/plain": [
              "(6, [312, 317, 384, 407, 526, 602])"
            ]
          },
          "execution_count": 35,
          "metadata": {},
          "output_type": "execute_result"
        }
      ],
      "source": [
        "# 내가 보지 않은 영화중에서 가장 닮은 사람이 본 영화중 평점이 5인 영화 --> 추천\n",
        "recommend_list = []\n",
        "best_vector = adj_matrix[best_match_id]\n",
        "for i in range(len(my_vector)):\n",
        "  if my_vector[i] == 0 and best_vector[i] ==5:  #내가보지 않은 영화: 0\n",
        "    recommend_list.append(i)\n",
        "\n",
        "len(recommend_list), recommend_list"
      ]
    },
    {
      "cell_type": "markdown",
      "metadata": {
        "id": "SO8tzTCg8Mkg"
      },
      "source": [
        "- 코사인 유사도"
      ]
    },
    {
      "cell_type": "code",
      "execution_count": 44,
      "metadata": {
        "id": "tr4Rr0hQ8dr7"
      },
      "outputs": [],
      "source": [
        "def cos_similarity(v1, v2):\n",
        "  v1_norm = np.sqrt(np.sum(np.square(v1)))\n",
        "  v2_norm = np.sqrt(np.sum(np.square(v2)))\n",
        "  return np.dot(v1, v2) / (v1_norm * v2_norm)"
      ]
    },
    {
      "cell_type": "code",
      "execution_count": 45,
      "metadata": {
        "colab": {
          "base_uri": "https://localhost:8080/"
        },
        "id": "3HBn6SXg9Jo4",
        "outputId": "43711872-e2e5-44f2-d5d3-bdb755a90512"
      },
      "outputs": [
        {
          "data": {
            "text/plain": [
              "0.52703107350111"
            ]
          },
          "execution_count": 45,
          "metadata": {},
          "output_type": "execute_result"
        }
      ],
      "source": [
        "cos_similarity(my_vector, best_vector)"
      ]
    },
    {
      "cell_type": "code",
      "execution_count": 47,
      "metadata": {
        "colab": {
          "base_uri": "https://localhost:8080/"
        },
        "id": "CNO4GdSk9QKQ",
        "outputId": "dac24f85-6550-482f-f83c-48c49b543ba0"
      },
      "outputs": [
        {
          "data": {
            "text/plain": [
              "(0.569065731527988, 915)"
            ]
          },
          "execution_count": 47,
          "metadata": {},
          "output_type": "execute_result"
        }
      ],
      "source": [
        "# 누가 가장 '나'와 닮았나? - 코사인 유사도의 최대값\n",
        "best_score, best_match_id = 0, 0\n",
        "my_vector = adj_matrix[0]\n",
        "\n",
        "for i in range(1, len(adj_matrix)):\n",
        "  sim_score = cos_similarity(my_vector, adj_matrix[i])\n",
        "  if sim_score > best_score:\n",
        "    best_score, best_match_id = sim_score, i\n",
        "\n",
        "best_score, best_match_id"
      ]
    },
    {
      "cell_type": "code",
      "execution_count": 48,
      "metadata": {
        "colab": {
          "base_uri": "https://localhost:8080/"
        },
        "id": "lLCWp0np9r3Z",
        "outputId": "9c0bfb71-c975-443b-fb02-86584bcb7ad6"
      },
      "outputs": [
        {
          "data": {
            "text/plain": [
              "(7, [420, 424, 482, 510, 511, 918, 1008])"
            ]
          },
          "execution_count": 48,
          "metadata": {},
          "output_type": "execute_result"
        }
      ],
      "source": [
        "# 내가 보지 않은 영화중에서 가장 닮은 사람이 본 영화중 평점이 5인 영화 --> 추천\n",
        "recommend_list = []\n",
        "best_vector = adj_matrix[best_match_id]\n",
        "for i in range(len(my_vector)):\n",
        "  if my_vector[i] == 0 and best_vector[i] == 5:\n",
        "    recommend_list.append(i)\n",
        "\n",
        "len(recommend_list), recommend_lisㄴt"
      ]
    },
    {
      "cell_type": "code",
      "execution_count": null,
      "metadata": {
        "id": "fzMWStU9-AA7"
      },
      "outputs": [],
      "source": []
    },
    {
      "cell_type": "code",
      "execution_count": null,
      "metadata": {
        "id": "92Fl2Axe-Zf_"
      },
      "outputs": [],
      "source": []
    }
  ],
  "metadata": {
    "colab": {
      "provenance": [],
      "toc_visible": true
    },
    "kernelspec": {
      "display_name": "Python 3",
      "name": "python3"
    },
    "language_info": {
      "name": "python"
    }
  },
  "nbformat": 4,
  "nbformat_minor": 0
}
