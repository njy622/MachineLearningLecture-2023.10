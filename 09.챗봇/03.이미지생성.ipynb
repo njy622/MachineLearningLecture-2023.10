{
 "cells": [
  {
   "cell_type": "markdown",
   "metadata": {},
   "source": [
    "## OpenAI API 사용하기\n",
    "- ChatGPT 3.5 + Dall-E 사용하여 이미지 생성하기\n",
    "- openai 패키지 설치: conda activate base; pip install openai"
   ]
  },
  {
   "cell_type": "code",
   "execution_count": 1,
   "metadata": {},
   "outputs": [],
   "source": [
    "import openai\n",
    "import requests\n",
    "from urllib.parse import quote\n",
    "from PIL import Image\n",
    "import matplotlib.pyplot as plt"
   ]
  },
  {
   "cell_type": "code",
   "execution_count": 2,
   "metadata": {},
   "outputs": [
    {
     "ename": "FileNotFoundError",
     "evalue": "[Errno 2] No such file or directory: 'keys/openAiApiKey.txt'",
     "output_type": "error",
     "traceback": [
      "\u001b[1;31m---------------------------------------------------------------------------\u001b[0m",
      "\u001b[1;31mFileNotFoundError\u001b[0m                         Traceback (most recent call last)",
      "\u001b[1;32md:\\WorkSpace\\03.MachineLearning\\09.챗봇\\03.이미지생성.ipynb 셀 3\u001b[0m line \u001b[0;36m1\n\u001b[1;32m----> <a href='vscode-notebook-cell:/d%3A/WorkSpace/03.MachineLearning/09.%EC%B1%97%EB%B4%87/03.%EC%9D%B4%EB%AF%B8%EC%A7%80%EC%83%9D%EC%84%B1.ipynb#W2sZmlsZQ%3D%3D?line=0'>1</a>\u001b[0m \u001b[39mwith\u001b[39;00m \u001b[39mopen\u001b[39m(\u001b[39m'\u001b[39m\u001b[39mkeys/openAiApiKey.txt\u001b[39m\u001b[39m'\u001b[39m) \u001b[39mas\u001b[39;00m file:\n\u001b[0;32m      <a href='vscode-notebook-cell:/d%3A/WorkSpace/03.MachineLearning/09.%EC%B1%97%EB%B4%87/03.%EC%9D%B4%EB%AF%B8%EC%A7%80%EC%83%9D%EC%84%B1.ipynb#W2sZmlsZQ%3D%3D?line=1'>2</a>\u001b[0m     openai\u001b[39m.\u001b[39mapi_key \u001b[39m=\u001b[39m file\u001b[39m.\u001b[39mread()\n",
      "File \u001b[1;32mc:\\Users\\human\\anaconda3\\Lib\\site-packages\\IPython\\core\\interactiveshell.py:284\u001b[0m, in \u001b[0;36m_modified_open\u001b[1;34m(file, *args, **kwargs)\u001b[0m\n\u001b[0;32m    277\u001b[0m \u001b[39mif\u001b[39;00m file \u001b[39min\u001b[39;00m {\u001b[39m0\u001b[39m, \u001b[39m1\u001b[39m, \u001b[39m2\u001b[39m}:\n\u001b[0;32m    278\u001b[0m     \u001b[39mraise\u001b[39;00m \u001b[39mValueError\u001b[39;00m(\n\u001b[0;32m    279\u001b[0m         \u001b[39mf\u001b[39m\u001b[39m\"\u001b[39m\u001b[39mIPython won\u001b[39m\u001b[39m'\u001b[39m\u001b[39mt let you open fd=\u001b[39m\u001b[39m{\u001b[39;00mfile\u001b[39m}\u001b[39;00m\u001b[39m by default \u001b[39m\u001b[39m\"\u001b[39m\n\u001b[0;32m    280\u001b[0m         \u001b[39m\"\u001b[39m\u001b[39mas it is likely to crash IPython. If you know what you are doing, \u001b[39m\u001b[39m\"\u001b[39m\n\u001b[0;32m    281\u001b[0m         \u001b[39m\"\u001b[39m\u001b[39myou can use builtins\u001b[39m\u001b[39m'\u001b[39m\u001b[39m open.\u001b[39m\u001b[39m\"\u001b[39m\n\u001b[0;32m    282\u001b[0m     )\n\u001b[1;32m--> 284\u001b[0m \u001b[39mreturn\u001b[39;00m io_open(file, \u001b[39m*\u001b[39margs, \u001b[39m*\u001b[39m\u001b[39m*\u001b[39mkwargs)\n",
      "\u001b[1;31mFileNotFoundError\u001b[0m: [Errno 2] No such file or directory: 'keys/openAiApiKey.txt'"
     ]
    }
   ],
   "source": [
    "with open('keys/openAiApiKey.txt') as file:\n",
    "    openai.api_key = file.read()"
   ]
  },
  {
   "cell_type": "code",
   "execution_count": 4,
   "metadata": {},
   "outputs": [],
   "source": [
    "user_input = '석양이 지는 해변가에서 하이볼을 마시는 노인'\n",
    "gpt_prompt = [\n",
    "    {'role': 'system', 'content': 'Translate it in English'},\n",
    "    {'role': 'user', 'content': user_input}\n",
    "]"
   ]
  },
  {
   "cell_type": "code",
   "execution_count": 5,
   "metadata": {},
   "outputs": [
    {
     "ename": "AuthenticationError",
     "evalue": "No API key provided. You can set your API key in code using 'openai.api_key = <API-KEY>', or you can set the environment variable OPENAI_API_KEY=<API-KEY>). If your API key is stored in a file, you can point the openai module at it with 'openai.api_key_path = <PATH>'. You can generate API keys in the OpenAI web interface. See https://platform.openai.com/account/api-keys for details.",
     "output_type": "error",
     "traceback": [
      "\u001b[1;31m---------------------------------------------------------------------------\u001b[0m",
      "\u001b[1;31mAuthenticationError\u001b[0m                       Traceback (most recent call last)",
      "\u001b[1;32md:\\WorkSpace\\03.MachineLearning\\09.챗봇\\03.이미지생성.ipynb 셀 5\u001b[0m line \u001b[0;36m1\n\u001b[1;32m----> <a href='vscode-notebook-cell:/d%3A/WorkSpace/03.MachineLearning/09.%EC%B1%97%EB%B4%87/03.%EC%9D%B4%EB%AF%B8%EC%A7%80%EC%83%9D%EC%84%B1.ipynb#W4sZmlsZQ%3D%3D?line=0'>1</a>\u001b[0m chatgpt_response \u001b[39m=\u001b[39m openai\u001b[39m.\u001b[39mChatCompletion\u001b[39m.\u001b[39mcreate(\n\u001b[0;32m      <a href='vscode-notebook-cell:/d%3A/WorkSpace/03.MachineLearning/09.%EC%B1%97%EB%B4%87/03.%EC%9D%B4%EB%AF%B8%EC%A7%80%EC%83%9D%EC%84%B1.ipynb#W4sZmlsZQ%3D%3D?line=1'>2</a>\u001b[0m     model\u001b[39m=\u001b[39m\u001b[39m'\u001b[39m\u001b[39mgpt-3.5-turbo\u001b[39m\u001b[39m'\u001b[39m, messages\u001b[39m=\u001b[39mgpt_prompt\n\u001b[0;32m      <a href='vscode-notebook-cell:/d%3A/WorkSpace/03.MachineLearning/09.%EC%B1%97%EB%B4%87/03.%EC%9D%B4%EB%AF%B8%EC%A7%80%EC%83%9D%EC%84%B1.ipynb#W4sZmlsZQ%3D%3D?line=2'>3</a>\u001b[0m )\n\u001b[0;32m      <a href='vscode-notebook-cell:/d%3A/WorkSpace/03.MachineLearning/09.%EC%B1%97%EB%B4%87/03.%EC%9D%B4%EB%AF%B8%EC%A7%80%EC%83%9D%EC%84%B1.ipynb#W4sZmlsZQ%3D%3D?line=3'>4</a>\u001b[0m chatgpt_response\n",
      "File \u001b[1;32mc:\\Users\\human\\anaconda3\\Lib\\site-packages\\openai\\api_resources\\chat_completion.py:25\u001b[0m, in \u001b[0;36mChatCompletion.create\u001b[1;34m(cls, *args, **kwargs)\u001b[0m\n\u001b[0;32m     23\u001b[0m \u001b[39mwhile\u001b[39;00m \u001b[39mTrue\u001b[39;00m:\n\u001b[0;32m     24\u001b[0m     \u001b[39mtry\u001b[39;00m:\n\u001b[1;32m---> 25\u001b[0m         \u001b[39mreturn\u001b[39;00m \u001b[39msuper\u001b[39m()\u001b[39m.\u001b[39mcreate(\u001b[39m*\u001b[39margs, \u001b[39m*\u001b[39m\u001b[39m*\u001b[39mkwargs)\n\u001b[0;32m     26\u001b[0m     \u001b[39mexcept\u001b[39;00m TryAgain \u001b[39mas\u001b[39;00m e:\n\u001b[0;32m     27\u001b[0m         \u001b[39mif\u001b[39;00m timeout \u001b[39mis\u001b[39;00m \u001b[39mnot\u001b[39;00m \u001b[39mNone\u001b[39;00m \u001b[39mand\u001b[39;00m time\u001b[39m.\u001b[39mtime() \u001b[39m>\u001b[39m start \u001b[39m+\u001b[39m timeout:\n",
      "File \u001b[1;32mc:\\Users\\human\\anaconda3\\Lib\\site-packages\\openai\\api_resources\\abstract\\engine_api_resource.py:151\u001b[0m, in \u001b[0;36mEngineAPIResource.create\u001b[1;34m(cls, api_key, api_base, api_type, request_id, api_version, organization, **params)\u001b[0m\n\u001b[0;32m    129\u001b[0m \u001b[39m@classmethod\u001b[39m\n\u001b[0;32m    130\u001b[0m \u001b[39mdef\u001b[39;00m \u001b[39mcreate\u001b[39m(\n\u001b[0;32m    131\u001b[0m     \u001b[39mcls\u001b[39m,\n\u001b[1;32m   (...)\u001b[0m\n\u001b[0;32m    138\u001b[0m     \u001b[39m*\u001b[39m\u001b[39m*\u001b[39mparams,\n\u001b[0;32m    139\u001b[0m ):\n\u001b[0;32m    140\u001b[0m     (\n\u001b[0;32m    141\u001b[0m         deployment_id,\n\u001b[0;32m    142\u001b[0m         engine,\n\u001b[0;32m    143\u001b[0m         timeout,\n\u001b[0;32m    144\u001b[0m         stream,\n\u001b[0;32m    145\u001b[0m         headers,\n\u001b[0;32m    146\u001b[0m         request_timeout,\n\u001b[0;32m    147\u001b[0m         typed_api_type,\n\u001b[0;32m    148\u001b[0m         requestor,\n\u001b[0;32m    149\u001b[0m         url,\n\u001b[0;32m    150\u001b[0m         params,\n\u001b[1;32m--> 151\u001b[0m     ) \u001b[39m=\u001b[39m \u001b[39mcls\u001b[39m\u001b[39m.\u001b[39m__prepare_create_request(\n\u001b[0;32m    152\u001b[0m         api_key, api_base, api_type, api_version, organization, \u001b[39m*\u001b[39m\u001b[39m*\u001b[39mparams\n\u001b[0;32m    153\u001b[0m     )\n\u001b[0;32m    155\u001b[0m     response, _, api_key \u001b[39m=\u001b[39m requestor\u001b[39m.\u001b[39mrequest(\n\u001b[0;32m    156\u001b[0m         \u001b[39m\"\u001b[39m\u001b[39mpost\u001b[39m\u001b[39m\"\u001b[39m,\n\u001b[0;32m    157\u001b[0m         url,\n\u001b[1;32m   (...)\u001b[0m\n\u001b[0;32m    162\u001b[0m         request_timeout\u001b[39m=\u001b[39mrequest_timeout,\n\u001b[0;32m    163\u001b[0m     )\n\u001b[0;32m    165\u001b[0m     \u001b[39mif\u001b[39;00m stream:\n\u001b[0;32m    166\u001b[0m         \u001b[39m# must be an iterator\u001b[39;00m\n",
      "File \u001b[1;32mc:\\Users\\human\\anaconda3\\Lib\\site-packages\\openai\\api_resources\\abstract\\engine_api_resource.py:108\u001b[0m, in \u001b[0;36mEngineAPIResource.__prepare_create_request\u001b[1;34m(cls, api_key, api_base, api_type, api_version, organization, **params)\u001b[0m\n\u001b[0;32m    105\u001b[0m \u001b[39melif\u001b[39;00m timeout \u001b[39m==\u001b[39m \u001b[39m0\u001b[39m:\n\u001b[0;32m    106\u001b[0m     params[\u001b[39m\"\u001b[39m\u001b[39mtimeout\u001b[39m\u001b[39m\"\u001b[39m] \u001b[39m=\u001b[39m MAX_TIMEOUT\n\u001b[1;32m--> 108\u001b[0m requestor \u001b[39m=\u001b[39m api_requestor\u001b[39m.\u001b[39mAPIRequestor(\n\u001b[0;32m    109\u001b[0m     api_key,\n\u001b[0;32m    110\u001b[0m     api_base\u001b[39m=\u001b[39mapi_base,\n\u001b[0;32m    111\u001b[0m     api_type\u001b[39m=\u001b[39mapi_type,\n\u001b[0;32m    112\u001b[0m     api_version\u001b[39m=\u001b[39mapi_version,\n\u001b[0;32m    113\u001b[0m     organization\u001b[39m=\u001b[39morganization,\n\u001b[0;32m    114\u001b[0m )\n\u001b[0;32m    115\u001b[0m url \u001b[39m=\u001b[39m \u001b[39mcls\u001b[39m\u001b[39m.\u001b[39mclass_url(engine, api_type, api_version)\n\u001b[0;32m    116\u001b[0m \u001b[39mreturn\u001b[39;00m (\n\u001b[0;32m    117\u001b[0m     deployment_id,\n\u001b[0;32m    118\u001b[0m     engine,\n\u001b[1;32m   (...)\u001b[0m\n\u001b[0;32m    126\u001b[0m     params,\n\u001b[0;32m    127\u001b[0m )\n",
      "File \u001b[1;32mc:\\Users\\human\\anaconda3\\Lib\\site-packages\\openai\\api_requestor.py:139\u001b[0m, in \u001b[0;36mAPIRequestor.__init__\u001b[1;34m(self, key, api_base, api_type, api_version, organization)\u001b[0m\n\u001b[0;32m    130\u001b[0m \u001b[39mdef\u001b[39;00m \u001b[39m__init__\u001b[39m(\n\u001b[0;32m    131\u001b[0m     \u001b[39mself\u001b[39m,\n\u001b[0;32m    132\u001b[0m     key\u001b[39m=\u001b[39m\u001b[39mNone\u001b[39;00m,\n\u001b[1;32m   (...)\u001b[0m\n\u001b[0;32m    136\u001b[0m     organization\u001b[39m=\u001b[39m\u001b[39mNone\u001b[39;00m,\n\u001b[0;32m    137\u001b[0m ):\n\u001b[0;32m    138\u001b[0m     \u001b[39mself\u001b[39m\u001b[39m.\u001b[39mapi_base \u001b[39m=\u001b[39m api_base \u001b[39mor\u001b[39;00m openai\u001b[39m.\u001b[39mapi_base\n\u001b[1;32m--> 139\u001b[0m     \u001b[39mself\u001b[39m\u001b[39m.\u001b[39mapi_key \u001b[39m=\u001b[39m key \u001b[39mor\u001b[39;00m util\u001b[39m.\u001b[39mdefault_api_key()\n\u001b[0;32m    140\u001b[0m     \u001b[39mself\u001b[39m\u001b[39m.\u001b[39mapi_type \u001b[39m=\u001b[39m (\n\u001b[0;32m    141\u001b[0m         ApiType\u001b[39m.\u001b[39mfrom_str(api_type)\n\u001b[0;32m    142\u001b[0m         \u001b[39mif\u001b[39;00m api_type\n\u001b[0;32m    143\u001b[0m         \u001b[39melse\u001b[39;00m ApiType\u001b[39m.\u001b[39mfrom_str(openai\u001b[39m.\u001b[39mapi_type)\n\u001b[0;32m    144\u001b[0m     )\n\u001b[0;32m    145\u001b[0m     \u001b[39mself\u001b[39m\u001b[39m.\u001b[39mapi_version \u001b[39m=\u001b[39m api_version \u001b[39mor\u001b[39;00m openai\u001b[39m.\u001b[39mapi_version\n",
      "File \u001b[1;32mc:\\Users\\human\\anaconda3\\Lib\\site-packages\\openai\\util.py:186\u001b[0m, in \u001b[0;36mdefault_api_key\u001b[1;34m()\u001b[0m\n\u001b[0;32m    184\u001b[0m     \u001b[39mreturn\u001b[39;00m openai\u001b[39m.\u001b[39mapi_key\n\u001b[0;32m    185\u001b[0m \u001b[39melse\u001b[39;00m:\n\u001b[1;32m--> 186\u001b[0m     \u001b[39mraise\u001b[39;00m openai\u001b[39m.\u001b[39merror\u001b[39m.\u001b[39mAuthenticationError(\n\u001b[0;32m    187\u001b[0m         \u001b[39m\"\u001b[39m\u001b[39mNo API key provided. You can set your API key in code using \u001b[39m\u001b[39m'\u001b[39m\u001b[39mopenai.api_key = <API-KEY>\u001b[39m\u001b[39m'\u001b[39m\u001b[39m, or you can set the environment variable OPENAI_API_KEY=<API-KEY>). If your API key is stored in a file, you can point the openai module at it with \u001b[39m\u001b[39m'\u001b[39m\u001b[39mopenai.api_key_path = <PATH>\u001b[39m\u001b[39m'\u001b[39m\u001b[39m. You can generate API keys in the OpenAI web interface. See https://platform.openai.com/account/api-keys for details.\u001b[39m\u001b[39m\"\u001b[39m\n\u001b[0;32m    188\u001b[0m     )\n",
      "\u001b[1;31mAuthenticationError\u001b[0m: No API key provided. You can set your API key in code using 'openai.api_key = <API-KEY>', or you can set the environment variable OPENAI_API_KEY=<API-KEY>). If your API key is stored in a file, you can point the openai module at it with 'openai.api_key_path = <PATH>'. You can generate API keys in the OpenAI web interface. See https://platform.openai.com/account/api-keys for details."
     ]
    }
   ],
   "source": [
    "chatgpt_response = openai.ChatCompletion.create(\n",
    "    model='gpt-3.5-turbo', messages=gpt_prompt\n",
    ")\n",
    "chatgpt_response"
   ]
  },
  {
   "cell_type": "code",
   "execution_count": 6,
   "metadata": {},
   "outputs": [
    {
     "ename": "NameError",
     "evalue": "name 'chatgpt_response' is not defined",
     "output_type": "error",
     "traceback": [
      "\u001b[1;31m---------------------------------------------------------------------------\u001b[0m",
      "\u001b[1;31mNameError\u001b[0m                                 Traceback (most recent call last)",
      "\u001b[1;32md:\\WorkSpace\\03.MachineLearning\\09.챗봇\\03.이미지생성.ipynb 셀 6\u001b[0m line \u001b[0;36m1\n\u001b[1;32m----> <a href='vscode-notebook-cell:/d%3A/WorkSpace/03.MachineLearning/09.%EC%B1%97%EB%B4%87/03.%EC%9D%B4%EB%AF%B8%EC%A7%80%EC%83%9D%EC%84%B1.ipynb#W5sZmlsZQ%3D%3D?line=0'>1</a>\u001b[0m translated_prompt \u001b[39m=\u001b[39m chatgpt_response[\u001b[39m\"\u001b[39m\u001b[39mchoices\u001b[39m\u001b[39m\"\u001b[39m][\u001b[39m0\u001b[39m][\u001b[39m\"\u001b[39m\u001b[39mmessage\u001b[39m\u001b[39m\"\u001b[39m][\u001b[39m\"\u001b[39m\u001b[39mcontent\u001b[39m\u001b[39m\"\u001b[39m]\n\u001b[0;32m      <a href='vscode-notebook-cell:/d%3A/WorkSpace/03.MachineLearning/09.%EC%B1%97%EB%B4%87/03.%EC%9D%B4%EB%AF%B8%EC%A7%80%EC%83%9D%EC%84%B1.ipynb#W5sZmlsZQ%3D%3D?line=1'>2</a>\u001b[0m translated_prompt\n",
      "\u001b[1;31mNameError\u001b[0m: name 'chatgpt_response' is not defined"
     ]
    }
   ],
   "source": [
    "translated_prompt = chatgpt_response[\"choices\"][0][\"message\"][\"content\"]\n",
    "translated_prompt"
   ]
  },
  {
   "cell_type": "code",
   "execution_count": 7,
   "metadata": {},
   "outputs": [
    {
     "ename": "NameError",
     "evalue": "name 'translated_prompt' is not defined",
     "output_type": "error",
     "traceback": [
      "\u001b[1;31m---------------------------------------------------------------------------\u001b[0m",
      "\u001b[1;31mNameError\u001b[0m                                 Traceback (most recent call last)",
      "\u001b[1;32md:\\WorkSpace\\03.MachineLearning\\09.챗봇\\03.이미지생성.ipynb 셀 7\u001b[0m line \u001b[0;36m4\n\u001b[0;32m      <a href='vscode-notebook-cell:/d%3A/WorkSpace/03.MachineLearning/09.%EC%B1%97%EB%B4%87/03.%EC%9D%B4%EB%AF%B8%EC%A7%80%EC%83%9D%EC%84%B1.ipynb#W6sZmlsZQ%3D%3D?line=0'>1</a>\u001b[0m gpt_prompt \u001b[39m=\u001b[39m [\n\u001b[0;32m      <a href='vscode-notebook-cell:/d%3A/WorkSpace/03.MachineLearning/09.%EC%B1%97%EB%B4%87/03.%EC%9D%B4%EB%AF%B8%EC%A7%80%EC%83%9D%EC%84%B1.ipynb#W6sZmlsZQ%3D%3D?line=1'>2</a>\u001b[0m     {\u001b[39m'\u001b[39m\u001b[39mrole\u001b[39m\u001b[39m'\u001b[39m: \u001b[39m'\u001b[39m\u001b[39msystem\u001b[39m\u001b[39m'\u001b[39m,\n\u001b[0;32m      <a href='vscode-notebook-cell:/d%3A/WorkSpace/03.MachineLearning/09.%EC%B1%97%EB%B4%87/03.%EC%9D%B4%EB%AF%B8%EC%A7%80%EC%83%9D%EC%84%B1.ipynb#W6sZmlsZQ%3D%3D?line=2'>3</a>\u001b[0m      \u001b[39m'\u001b[39m\u001b[39mcontent\u001b[39m\u001b[39m'\u001b[39m: \u001b[39m'\u001b[39m\u001b[39mImagine the detail appearance of the input. Response it shortly around 20 words.\u001b[39m\u001b[39m'\u001b[39m},\n\u001b[1;32m----> <a href='vscode-notebook-cell:/d%3A/WorkSpace/03.MachineLearning/09.%EC%B1%97%EB%B4%87/03.%EC%9D%B4%EB%AF%B8%EC%A7%80%EC%83%9D%EC%84%B1.ipynb#W6sZmlsZQ%3D%3D?line=3'>4</a>\u001b[0m     {\u001b[39m'\u001b[39m\u001b[39mrole\u001b[39m\u001b[39m'\u001b[39m: \u001b[39m'\u001b[39m\u001b[39muser\u001b[39m\u001b[39m'\u001b[39m, \u001b[39m'\u001b[39m\u001b[39mcontent\u001b[39m\u001b[39m'\u001b[39m: translated_prompt}\n\u001b[0;32m      <a href='vscode-notebook-cell:/d%3A/WorkSpace/03.MachineLearning/09.%EC%B1%97%EB%B4%87/03.%EC%9D%B4%EB%AF%B8%EC%A7%80%EC%83%9D%EC%84%B1.ipynb#W6sZmlsZQ%3D%3D?line=4'>5</a>\u001b[0m ]\n\u001b[0;32m      <a href='vscode-notebook-cell:/d%3A/WorkSpace/03.MachineLearning/09.%EC%B1%97%EB%B4%87/03.%EC%9D%B4%EB%AF%B8%EC%A7%80%EC%83%9D%EC%84%B1.ipynb#W6sZmlsZQ%3D%3D?line=5'>6</a>\u001b[0m chatgpt_response \u001b[39m=\u001b[39m openai\u001b[39m.\u001b[39mChatCompletion\u001b[39m.\u001b[39mcreate(\n\u001b[0;32m      <a href='vscode-notebook-cell:/d%3A/WorkSpace/03.MachineLearning/09.%EC%B1%97%EB%B4%87/03.%EC%9D%B4%EB%AF%B8%EC%A7%80%EC%83%9D%EC%84%B1.ipynb#W6sZmlsZQ%3D%3D?line=6'>7</a>\u001b[0m     model\u001b[39m=\u001b[39m\u001b[39m'\u001b[39m\u001b[39mgpt-3.5-turbo\u001b[39m\u001b[39m'\u001b[39m, messages\u001b[39m=\u001b[39mgpt_prompt\n\u001b[0;32m      <a href='vscode-notebook-cell:/d%3A/WorkSpace/03.MachineLearning/09.%EC%B1%97%EB%B4%87/03.%EC%9D%B4%EB%AF%B8%EC%A7%80%EC%83%9D%EC%84%B1.ipynb#W6sZmlsZQ%3D%3D?line=7'>8</a>\u001b[0m )\n\u001b[0;32m      <a href='vscode-notebook-cell:/d%3A/WorkSpace/03.MachineLearning/09.%EC%B1%97%EB%B4%87/03.%EC%9D%B4%EB%AF%B8%EC%A7%80%EC%83%9D%EC%84%B1.ipynb#W6sZmlsZQ%3D%3D?line=8'>9</a>\u001b[0m prompt \u001b[39m=\u001b[39m chatgpt_response[\u001b[39m\"\u001b[39m\u001b[39mchoices\u001b[39m\u001b[39m\"\u001b[39m][\u001b[39m0\u001b[39m][\u001b[39m\"\u001b[39m\u001b[39mmessage\u001b[39m\u001b[39m\"\u001b[39m][\u001b[39m\"\u001b[39m\u001b[39mcontent\u001b[39m\u001b[39m\"\u001b[39m]\n",
      "\u001b[1;31mNameError\u001b[0m: name 'translated_prompt' is not defined"
     ]
    }
   ],
   "source": [
    "gpt_prompt = [\n",
    "    {'role': 'system',\n",
    "     'content': 'Imagine the detail appearance of the input. Response it shortly around 20 words.'},\n",
    "    {'role': 'user', 'content': translated_prompt}\n",
    "]\n",
    "chatgpt_response = openai.ChatCompletion.create(\n",
    "    model='gpt-3.5-turbo', messages=gpt_prompt\n",
    ")\n",
    "prompt = chatgpt_response[\"choices\"][0][\"message\"][\"content\"]\n",
    "prompt"
   ]
  },
  {
   "cell_type": "code",
   "execution_count": 8,
   "metadata": {},
   "outputs": [
    {
     "ename": "NameError",
     "evalue": "name 'prompt' is not defined",
     "output_type": "error",
     "traceback": [
      "\u001b[1;31m---------------------------------------------------------------------------\u001b[0m",
      "\u001b[1;31mNameError\u001b[0m                                 Traceback (most recent call last)",
      "\u001b[1;32md:\\WorkSpace\\03.MachineLearning\\09.챗봇\\03.이미지생성.ipynb 셀 8\u001b[0m line \u001b[0;36m2\n\u001b[0;32m      <a href='vscode-notebook-cell:/d%3A/WorkSpace/03.MachineLearning/09.%EC%B1%97%EB%B4%87/03.%EC%9D%B4%EB%AF%B8%EC%A7%80%EC%83%9D%EC%84%B1.ipynb#X10sZmlsZQ%3D%3D?line=0'>1</a>\u001b[0m dalle_response \u001b[39m=\u001b[39m openai\u001b[39m.\u001b[39mImage\u001b[39m.\u001b[39mcreate(\n\u001b[1;32m----> <a href='vscode-notebook-cell:/d%3A/WorkSpace/03.MachineLearning/09.%EC%B1%97%EB%B4%87/03.%EC%9D%B4%EB%AF%B8%EC%A7%80%EC%83%9D%EC%84%B1.ipynb#X10sZmlsZQ%3D%3D?line=1'>2</a>\u001b[0m     prompt\u001b[39m=\u001b[39mprompt, size\u001b[39m=\u001b[39m\u001b[39m'\u001b[39m\u001b[39m1024*1024\u001b[39m\u001b[39m'\u001b[39m     \u001b[39m#1024, 512, 256 사이즈의ㅣ 정사각형 사이즈 밖에 없음\u001b[39;00m\n\u001b[0;32m      <a href='vscode-notebook-cell:/d%3A/WorkSpace/03.MachineLearning/09.%EC%B1%97%EB%B4%87/03.%EC%9D%B4%EB%AF%B8%EC%A7%80%EC%83%9D%EC%84%B1.ipynb#X10sZmlsZQ%3D%3D?line=2'>3</a>\u001b[0m )\n",
      "\u001b[1;31mNameError\u001b[0m: name 'prompt' is not defined"
     ]
    }
   ],
   "source": [
    "dalle_response = openai.Image.create(\n",
    "    prompt=prompt, size='1024*1024'     #1024, 512, 256 사이즈의ㅣ 정사각형 사이즈 밖에 없음\n",
    ")"
   ]
  },
  {
   "cell_type": "code",
   "execution_count": 9,
   "metadata": {},
   "outputs": [
    {
     "ename": "NameError",
     "evalue": "name 'dalle_response' is not defined",
     "output_type": "error",
     "traceback": [
      "\u001b[1;31m---------------------------------------------------------------------------\u001b[0m",
      "\u001b[1;31mNameError\u001b[0m                                 Traceback (most recent call last)",
      "\u001b[1;32md:\\WorkSpace\\03.MachineLearning\\09.챗봇\\03.이미지생성.ipynb 셀 9\u001b[0m line \u001b[0;36m1\n\u001b[1;32m----> <a href='vscode-notebook-cell:/d%3A/WorkSpace/03.MachineLearning/09.%EC%B1%97%EB%B4%87/03.%EC%9D%B4%EB%AF%B8%EC%A7%80%EC%83%9D%EC%84%B1.ipynb#X11sZmlsZQ%3D%3D?line=0'>1</a>\u001b[0m img_url \u001b[39m=\u001b[39m dalle_response[\u001b[39m\"\u001b[39m\u001b[39mdata\u001b[39m\u001b[39m\"\u001b[39m][\u001b[39m0\u001b[39m][\u001b[39m\"\u001b[39m\u001b[39murl\u001b[39m\u001b[39m\"\u001b[39m]\n\u001b[0;32m      <a href='vscode-notebook-cell:/d%3A/WorkSpace/03.MachineLearning/09.%EC%B1%97%EB%B4%87/03.%EC%9D%B4%EB%AF%B8%EC%A7%80%EC%83%9D%EC%84%B1.ipynb#X11sZmlsZQ%3D%3D?line=1'>2</a>\u001b[0m response \u001b[39m=\u001b[39m requests\u001b[39m.\u001b[39mget(img_url)\n\u001b[0;32m      <a href='vscode-notebook-cell:/d%3A/WorkSpace/03.MachineLearning/09.%EC%B1%97%EB%B4%87/03.%EC%9D%B4%EB%AF%B8%EC%A7%80%EC%83%9D%EC%84%B1.ipynb#X11sZmlsZQ%3D%3D?line=3'>4</a>\u001b[0m \u001b[39mwith\u001b[39;00m \u001b[39mopen\u001b[39m(\u001b[39m'\u001b[39m\u001b[39mdata/result.png\u001b[39m\u001b[39m'\u001b[39m, \u001b[39m'\u001b[39m\u001b[39mwb\u001b[39m\u001b[39m'\u001b[39m) \u001b[39mas\u001b[39;00m img_file:\n",
      "\u001b[1;31mNameError\u001b[0m: name 'dalle_response' is not defined"
     ]
    }
   ],
   "source": [
    "img_url = dalle_response[\"data\"][0][\"url\"]\n",
    "response = requests.get(img_url)\n",
    "\n",
    "with open('data/result.png', 'wb') as img_file:\n",
    "    img_file.write(response.content)"
   ]
  },
  {
   "cell_type": "code",
   "execution_count": 10,
   "metadata": {},
   "outputs": [
    {
     "ename": "FileNotFoundError",
     "evalue": "[Errno 2] No such file or directory: 'data/result.png'",
     "output_type": "error",
     "traceback": [
      "\u001b[1;31m---------------------------------------------------------------------------\u001b[0m",
      "\u001b[1;31mFileNotFoundError\u001b[0m                         Traceback (most recent call last)",
      "\u001b[1;32md:\\WorkSpace\\03.MachineLearning\\09.챗봇\\03.이미지생성.ipynb 셀 10\u001b[0m line \u001b[0;36m1\n\u001b[1;32m----> <a href='vscode-notebook-cell:/d%3A/WorkSpace/03.MachineLearning/09.%EC%B1%97%EB%B4%87/03.%EC%9D%B4%EB%AF%B8%EC%A7%80%EC%83%9D%EC%84%B1.ipynb#X12sZmlsZQ%3D%3D?line=0'>1</a>\u001b[0m img \u001b[39m=\u001b[39m Image\u001b[39m.\u001b[39mopen(\u001b[39m'\u001b[39m\u001b[39mdata/result.png\u001b[39m\u001b[39m'\u001b[39m)\n\u001b[0;32m      <a href='vscode-notebook-cell:/d%3A/WorkSpace/03.MachineLearning/09.%EC%B1%97%EB%B4%87/03.%EC%9D%B4%EB%AF%B8%EC%A7%80%EC%83%9D%EC%84%B1.ipynb#X12sZmlsZQ%3D%3D?line=1'>2</a>\u001b[0m plt\u001b[39m.\u001b[39mfigure(figsize\u001b[39m=\u001b[39m(\u001b[39m6\u001b[39m,\u001b[39m6\u001b[39m))\n\u001b[0;32m      <a href='vscode-notebook-cell:/d%3A/WorkSpace/03.MachineLearning/09.%EC%B1%97%EB%B4%87/03.%EC%9D%B4%EB%AF%B8%EC%A7%80%EC%83%9D%EC%84%B1.ipynb#X12sZmlsZQ%3D%3D?line=2'>3</a>\u001b[0m plt\u001b[39m.\u001b[39maxis(\u001b[39m'\u001b[39m\u001b[39moff\u001b[39m\u001b[39m'\u001b[39m)\n",
      "File \u001b[1;32mc:\\Users\\human\\anaconda3\\Lib\\site-packages\\PIL\\Image.py:3227\u001b[0m, in \u001b[0;36mopen\u001b[1;34m(fp, mode, formats)\u001b[0m\n\u001b[0;32m   3224\u001b[0m     filename \u001b[39m=\u001b[39m fp\n\u001b[0;32m   3226\u001b[0m \u001b[39mif\u001b[39;00m filename:\n\u001b[1;32m-> 3227\u001b[0m     fp \u001b[39m=\u001b[39m builtins\u001b[39m.\u001b[39mopen(filename, \u001b[39m\"\u001b[39m\u001b[39mrb\u001b[39m\u001b[39m\"\u001b[39m)\n\u001b[0;32m   3228\u001b[0m     exclusive_fp \u001b[39m=\u001b[39m \u001b[39mTrue\u001b[39;00m\n\u001b[0;32m   3230\u001b[0m \u001b[39mtry\u001b[39;00m:\n",
      "\u001b[1;31mFileNotFoundError\u001b[0m: [Errno 2] No such file or directory: 'data/result.png'"
     ]
    }
   ],
   "source": [
    "img = Image.open('data/result.png')\n",
    "plt.figure(figsize=(6,6))\n",
    "plt.imshow(img)\n",
    "plt.axis('off')\n",
    "plt.show();"
   ]
  },
  {
   "cell_type": "code",
   "execution_count": null,
   "metadata": {},
   "outputs": [],
   "source": []
  }
 ],
 "metadata": {
  "kernelspec": {
   "display_name": "base",
   "language": "python",
   "name": "python3"
  },
  "language_info": {
   "codemirror_mode": {
    "name": "ipython",
    "version": 3
   },
   "file_extension": ".py",
   "mimetype": "text/x-python",
   "name": "python",
   "nbconvert_exporter": "python",
   "pygments_lexer": "ipython3",
   "version": "3.11.4"
  }
 },
 "nbformat": 4,
 "nbformat_minor": 2
}
